{
 "cells": [
  {
   "cell_type": "markdown",
   "metadata": {},
   "source": [
    "# Stock Market Prediction Project\n",
    "This a an MVP project. Just to proof the prediction might work. There are many ways to improve this script. Many traders out there are using algortihmic trading, I don't care to do that for perosnal gain. I will update this project from time to time.\n",
    "The goal is predict stock market prices for the current period based on historical data, I can use more data or more sophisticated algortihms to imporve my. Mean Absolute error will be the coost fucntion\n",
    "This Data is pulled from <a href='https://finance.yahoo.com/'> Yahoo finance </a>, my to go place for finance data since MBA days. Sadly, they stopped support to thier API, otherwise I would have added that to the script.\n",
    "To do actual trading with this based on this algortihm is unreal, since you need also to add stop loss fucntions and similar options."
   ]
  },
  {
   "cell_type": "code",
   "execution_count": 1,
   "metadata": {},
   "outputs": [
    {
     "data": {
      "text/html": [
       "<div>\n",
       "<style>\n",
       "    .dataframe thead tr:only-child th {\n",
       "        text-align: right;\n",
       "    }\n",
       "\n",
       "    .dataframe thead th {\n",
       "        text-align: left;\n",
       "    }\n",
       "\n",
       "    .dataframe tbody tr th {\n",
       "        vertical-align: top;\n",
       "    }\n",
       "</style>\n",
       "<table border=\"1\" class=\"dataframe\">\n",
       "  <thead>\n",
       "    <tr style=\"text-align: right;\">\n",
       "      <th></th>\n",
       "      <th>Date</th>\n",
       "      <th>Open</th>\n",
       "      <th>High</th>\n",
       "      <th>Low</th>\n",
       "      <th>Close</th>\n",
       "      <th>Adj Close</th>\n",
       "      <th>Volume</th>\n",
       "      <th>date</th>\n",
       "    </tr>\n",
       "  </thead>\n",
       "  <tbody>\n",
       "    <tr>\n",
       "      <th>0</th>\n",
       "      <td>1/3/1950</td>\n",
       "      <td>16.66</td>\n",
       "      <td>16.66</td>\n",
       "      <td>16.66</td>\n",
       "      <td>16.66</td>\n",
       "      <td>16.66</td>\n",
       "      <td>1260000</td>\n",
       "      <td>1950-01-03</td>\n",
       "    </tr>\n",
       "    <tr>\n",
       "      <th>1</th>\n",
       "      <td>1/4/1950</td>\n",
       "      <td>16.85</td>\n",
       "      <td>16.85</td>\n",
       "      <td>16.85</td>\n",
       "      <td>16.85</td>\n",
       "      <td>16.85</td>\n",
       "      <td>1890000</td>\n",
       "      <td>1950-01-04</td>\n",
       "    </tr>\n",
       "    <tr>\n",
       "      <th>2</th>\n",
       "      <td>1/5/1950</td>\n",
       "      <td>16.93</td>\n",
       "      <td>16.93</td>\n",
       "      <td>16.93</td>\n",
       "      <td>16.93</td>\n",
       "      <td>16.93</td>\n",
       "      <td>2550000</td>\n",
       "      <td>1950-01-05</td>\n",
       "    </tr>\n",
       "    <tr>\n",
       "      <th>3</th>\n",
       "      <td>1/6/1950</td>\n",
       "      <td>16.98</td>\n",
       "      <td>16.98</td>\n",
       "      <td>16.98</td>\n",
       "      <td>16.98</td>\n",
       "      <td>16.98</td>\n",
       "      <td>2010000</td>\n",
       "      <td>1950-01-06</td>\n",
       "    </tr>\n",
       "    <tr>\n",
       "      <th>4</th>\n",
       "      <td>1/9/1950</td>\n",
       "      <td>17.08</td>\n",
       "      <td>17.08</td>\n",
       "      <td>17.08</td>\n",
       "      <td>17.08</td>\n",
       "      <td>17.08</td>\n",
       "      <td>2520000</td>\n",
       "      <td>1950-01-09</td>\n",
       "    </tr>\n",
       "  </tbody>\n",
       "</table>\n",
       "</div>"
      ],
      "text/plain": [
       "       Date   Open   High    Low  Close  Adj Close   Volume       date\n",
       "0  1/3/1950  16.66  16.66  16.66  16.66      16.66  1260000 1950-01-03\n",
       "1  1/4/1950  16.85  16.85  16.85  16.85      16.85  1890000 1950-01-04\n",
       "2  1/5/1950  16.93  16.93  16.93  16.93      16.93  2550000 1950-01-05\n",
       "3  1/6/1950  16.98  16.98  16.98  16.98      16.98  2010000 1950-01-06\n",
       "4  1/9/1950  17.08  17.08  17.08  17.08      17.08  2520000 1950-01-09"
      ]
     },
     "execution_count": 1,
     "metadata": {},
     "output_type": "execute_result"
    }
   ],
   "source": [
    "import pandas as pd\n",
    "import numpy as np\n",
    "import matplotlib.pyplot as plt\n",
    "from datetime import datetime, date\n",
    "from sklearn.linear_model import LinearRegression\n",
    "from sklearn.metrics import mean_absolute_error\n",
    "\n",
    "data = pd.read_csv('GSPC.csv')\n",
    "data['date'] = pd.to_datetime(data['Date'])\n",
    "data.head()"
   ]
  },
  {
   "cell_type": "code",
   "execution_count": 2,
   "metadata": {
    "collapsed": true
   },
   "outputs": [],
   "source": [
    "# sorted values for use of DF.rolling later\n",
    "data.sort_values('date', inplace=True, ascending=True)\n",
    "\n",
    "# Shift added because rolling includes the current period, and we don't want the current day to impact our analysis, since it should be unknow, nad we trying to predict it\n",
    "data['day_5'] = data['Adj Close'].rolling(window=5).mean().shift(1)\n",
    "\n",
    "data['day_365'] = data['Adj Close'].rolling(window=500).mean().shift(1) #one business years is approximatley 200 busienss days\n",
    "\n",
    "data = data[data['date']>(datetime(year=1951, month=1, day=2))]\n",
    "\n",
    "data.dropna(axis=0, inplace=True)\n"
   ]
  },
  {
   "cell_type": "code",
   "execution_count": 3,
   "metadata": {
    "collapsed": true
   },
   "outputs": [],
   "source": [
    "train = data[data['date']<datetime(year=2013, month=1, day=1)]\n",
    "test = data[data['date']>=datetime(year=2013, month=1, day=1)]"
   ]
  },
  {
   "cell_type": "code",
   "execution_count": 4,
   "metadata": {
    "collapsed": true
   },
   "outputs": [],
   "source": [
    "lr = LinearRegression()\n",
    "lr.fit(train[['day_5','day_365']], train['Close'])\n",
    "prediction = lr.predict(test[['day_5','day_365']])"
   ]
  },
  {
   "cell_type": "code",
   "execution_count": 5,
   "metadata": {},
   "outputs": [
    {
     "name": "stdout",
     "output_type": "stream",
     "text": [
      "Mean Absolute Error = 18.135219478636046\n"
     ]
    }
   ],
   "source": [
    "mae = mean_absolute_error(test['Close'],prediction).mean()\n",
    "\n",
    "print('Mean Absolute Error = {}'.format(mae))"
   ]
  },
  {
   "cell_type": "code",
   "execution_count": 6,
   "metadata": {},
   "outputs": [
    {
     "name": "stdout",
     "output_type": "stream",
     "text": [
      "date =2019-01-30 , current price=2658, predicted price=2644.5797586885224\n"
     ]
    }
   ],
   "source": [
    "print('date ={1} , current price=2658, predicted price={0}'.format(prediction[-1], date.today()))"
   ]
  },
  {
   "cell_type": "markdown",
   "metadata": {},
   "source": [
    "#### Add Trading volume as indicator"
   ]
  },
  {
   "cell_type": "code",
   "execution_count": 7,
   "metadata": {},
   "outputs": [
    {
     "data": {
      "text/html": [
       "<div>\n",
       "<style>\n",
       "    .dataframe thead tr:only-child th {\n",
       "        text-align: right;\n",
       "    }\n",
       "\n",
       "    .dataframe thead th {\n",
       "        text-align: left;\n",
       "    }\n",
       "\n",
       "    .dataframe tbody tr th {\n",
       "        vertical-align: top;\n",
       "    }\n",
       "</style>\n",
       "<table border=\"1\" class=\"dataframe\">\n",
       "  <thead>\n",
       "    <tr style=\"text-align: right;\">\n",
       "      <th></th>\n",
       "      <th>Date</th>\n",
       "      <th>Open</th>\n",
       "      <th>High</th>\n",
       "      <th>Low</th>\n",
       "      <th>Close</th>\n",
       "      <th>Adj Close</th>\n",
       "      <th>Volume</th>\n",
       "      <th>date</th>\n",
       "      <th>day_5</th>\n",
       "      <th>day_365</th>\n",
       "      <th>volume_5</th>\n",
       "      <th>volume_365</th>\n",
       "    </tr>\n",
       "  </thead>\n",
       "  <tbody>\n",
       "    <tr>\n",
       "      <th>500</th>\n",
       "      <td>1/4/1952</td>\n",
       "      <td>23.920000</td>\n",
       "      <td>23.920000</td>\n",
       "      <td>23.920000</td>\n",
       "      <td>23.920000</td>\n",
       "      <td>23.920000</td>\n",
       "      <td>1480000</td>\n",
       "      <td>1952-01-04</td>\n",
       "      <td>23.758</td>\n",
       "      <td>20.37350</td>\n",
       "      <td>NaN</td>\n",
       "      <td>NaN</td>\n",
       "    </tr>\n",
       "    <tr>\n",
       "      <th>501</th>\n",
       "      <td>1/7/1952</td>\n",
       "      <td>23.910000</td>\n",
       "      <td>23.910000</td>\n",
       "      <td>23.910000</td>\n",
       "      <td>23.910000</td>\n",
       "      <td>23.910000</td>\n",
       "      <td>1540000</td>\n",
       "      <td>1952-01-07</td>\n",
       "      <td>23.812</td>\n",
       "      <td>20.38802</td>\n",
       "      <td>NaN</td>\n",
       "      <td>NaN</td>\n",
       "    </tr>\n",
       "    <tr>\n",
       "      <th>502</th>\n",
       "      <td>1/8/1952</td>\n",
       "      <td>23.820000</td>\n",
       "      <td>23.820000</td>\n",
       "      <td>23.820000</td>\n",
       "      <td>23.820000</td>\n",
       "      <td>23.820000</td>\n",
       "      <td>1390000</td>\n",
       "      <td>1952-01-08</td>\n",
       "      <td>23.856</td>\n",
       "      <td>20.40214</td>\n",
       "      <td>NaN</td>\n",
       "      <td>NaN</td>\n",
       "    </tr>\n",
       "    <tr>\n",
       "      <th>503</th>\n",
       "      <td>1/9/1952</td>\n",
       "      <td>23.740000</td>\n",
       "      <td>23.740000</td>\n",
       "      <td>23.740000</td>\n",
       "      <td>23.740000</td>\n",
       "      <td>23.740000</td>\n",
       "      <td>1370000</td>\n",
       "      <td>1952-01-09</td>\n",
       "      <td>23.866</td>\n",
       "      <td>20.41592</td>\n",
       "      <td>NaN</td>\n",
       "      <td>NaN</td>\n",
       "    </tr>\n",
       "    <tr>\n",
       "      <th>504</th>\n",
       "      <td>1/10/1952</td>\n",
       "      <td>23.860001</td>\n",
       "      <td>23.860001</td>\n",
       "      <td>23.860001</td>\n",
       "      <td>23.860001</td>\n",
       "      <td>23.860001</td>\n",
       "      <td>1520000</td>\n",
       "      <td>1952-01-10</td>\n",
       "      <td>23.854</td>\n",
       "      <td>20.42944</td>\n",
       "      <td>NaN</td>\n",
       "      <td>NaN</td>\n",
       "    </tr>\n",
       "    <tr>\n",
       "      <th>505</th>\n",
       "      <td>1/11/1952</td>\n",
       "      <td>23.980000</td>\n",
       "      <td>23.980000</td>\n",
       "      <td>23.980000</td>\n",
       "      <td>23.980000</td>\n",
       "      <td>23.980000</td>\n",
       "      <td>1760000</td>\n",
       "      <td>1952-01-11</td>\n",
       "      <td>23.850</td>\n",
       "      <td>20.44300</td>\n",
       "      <td>1460000.0</td>\n",
       "      <td>NaN</td>\n",
       "    </tr>\n",
       "    <tr>\n",
       "      <th>506</th>\n",
       "      <td>1/14/1952</td>\n",
       "      <td>24.160000</td>\n",
       "      <td>24.160000</td>\n",
       "      <td>24.160000</td>\n",
       "      <td>24.160000</td>\n",
       "      <td>24.160000</td>\n",
       "      <td>1510000</td>\n",
       "      <td>1952-01-14</td>\n",
       "      <td>23.862</td>\n",
       "      <td>20.45690</td>\n",
       "      <td>1516000.0</td>\n",
       "      <td>NaN</td>\n",
       "    </tr>\n",
       "    <tr>\n",
       "      <th>507</th>\n",
       "      <td>1/15/1952</td>\n",
       "      <td>24.059999</td>\n",
       "      <td>24.059999</td>\n",
       "      <td>24.059999</td>\n",
       "      <td>24.059999</td>\n",
       "      <td>24.059999</td>\n",
       "      <td>1340000</td>\n",
       "      <td>1952-01-15</td>\n",
       "      <td>23.912</td>\n",
       "      <td>20.47104</td>\n",
       "      <td>1510000.0</td>\n",
       "      <td>NaN</td>\n",
       "    </tr>\n",
       "  </tbody>\n",
       "</table>\n",
       "</div>"
      ],
      "text/plain": [
       "          Date       Open       High        Low      Close  Adj Close  \\\n",
       "500   1/4/1952  23.920000  23.920000  23.920000  23.920000  23.920000   \n",
       "501   1/7/1952  23.910000  23.910000  23.910000  23.910000  23.910000   \n",
       "502   1/8/1952  23.820000  23.820000  23.820000  23.820000  23.820000   \n",
       "503   1/9/1952  23.740000  23.740000  23.740000  23.740000  23.740000   \n",
       "504  1/10/1952  23.860001  23.860001  23.860001  23.860001  23.860001   \n",
       "505  1/11/1952  23.980000  23.980000  23.980000  23.980000  23.980000   \n",
       "506  1/14/1952  24.160000  24.160000  24.160000  24.160000  24.160000   \n",
       "507  1/15/1952  24.059999  24.059999  24.059999  24.059999  24.059999   \n",
       "\n",
       "      Volume       date   day_5   day_365   volume_5  volume_365  \n",
       "500  1480000 1952-01-04  23.758  20.37350        NaN         NaN  \n",
       "501  1540000 1952-01-07  23.812  20.38802        NaN         NaN  \n",
       "502  1390000 1952-01-08  23.856  20.40214        NaN         NaN  \n",
       "503  1370000 1952-01-09  23.866  20.41592        NaN         NaN  \n",
       "504  1520000 1952-01-10  23.854  20.42944        NaN         NaN  \n",
       "505  1760000 1952-01-11  23.850  20.44300  1460000.0         NaN  \n",
       "506  1510000 1952-01-14  23.862  20.45690  1516000.0         NaN  \n",
       "507  1340000 1952-01-15  23.912  20.47104  1510000.0         NaN  "
      ]
     },
     "execution_count": 7,
     "metadata": {},
     "output_type": "execute_result"
    }
   ],
   "source": [
    "data['volume_5'] = data['Volume'].rolling(window=5).mean().shift(1)\n",
    "data['volume_365'] = data['Volume'].rolling(window=500).mean().shift(1)\n",
    "data.head(8)"
   ]
  },
  {
   "cell_type": "code",
   "execution_count": 8,
   "metadata": {
    "collapsed": true
   },
   "outputs": [],
   "source": [
    "### created a function so I don't  reapeat code multible times"
   ]
  },
  {
   "cell_type": "code",
   "execution_count": 9,
   "metadata": {},
   "outputs": [],
   "source": [
    "def LR(features):\n",
    "    lr = LinearRegression()\n",
    "    data.dropna(axis=0, inplace=True)\n",
    "    train = data[data['date']<datetime(year=2013, month=1, day=1)]\n",
    "    test = data[data['date']>=datetime(year=2013, month=1, day=1)]\n",
    "    lr.fit(train[features], train['Close'])\n",
    "    prediction = lr.predict(test[features])\n",
    "    mae = mean_absolute_error(test['Close'],prediction).mean()\n",
    "    print('Mean Absolute Error = {}'.format(mae))\n",
    "    print('date ={1} , current price=2658, predicted price={0}'.format(prediction[-1], date.today()))\n",
    "    return"
   ]
  },
  {
   "cell_type": "code",
   "execution_count": 10,
   "metadata": {},
   "outputs": [
    {
     "name": "stdout",
     "output_type": "stream",
     "text": [
      "Mean Absolute Error = 18.05518263568091\n",
      "date =2019-01-30 , current price=2658, predicted price=2645.3755019881246\n"
     ]
    }
   ],
   "source": [
    "LR(['day_5','day_365','volume_5','volume_365'])"
   ]
  },
  {
   "cell_type": "markdown",
   "metadata": {},
   "source": [
    "The current error is around 18 USD, that's less than 1% of the index price, yet there is room for imporvements, by inveting relative features. Such as variance as predictor"
   ]
  },
  {
   "cell_type": "code",
   "execution_count": 11,
   "metadata": {
    "collapsed": true
   },
   "outputs": [],
   "source": [
    "# using historice price variance as indicator\n",
    "data['pvar_5'] = data['Adj Close'].rolling(window=5).var().shift(1)"
   ]
  },
  {
   "cell_type": "code",
   "execution_count": 12,
   "metadata": {},
   "outputs": [
    {
     "name": "stdout",
     "output_type": "stream",
     "text": [
      "Mean Absolute Error = 17.963575090150275\n",
      "date =2019-01-30 , current price=2658, predicted price=2646.9919229100833\n"
     ]
    }
   ],
   "source": [
    "LR(['day_5','day_365','volume_5','volume_365','pvar_5'])"
   ]
  },
  {
   "cell_type": "code",
   "execution_count": 13,
   "metadata": {
    "collapsed": true
   },
   "outputs": [],
   "source": [
    "# using historice price standard deviation as indicator\n",
    "data['pstd_365'] = data['Adj Close'].rolling(window=500).var().shift(1)"
   ]
  },
  {
   "cell_type": "code",
   "execution_count": 14,
   "metadata": {},
   "outputs": [
    {
     "name": "stdout",
     "output_type": "stream",
     "text": [
      "Mean Absolute Error = 17.9808765783575\n",
      "date =2019-01-30 , current price=2658, predicted price=2646.8488749924068\n"
     ]
    }
   ],
   "source": [
    "LR(['day_5','day_365','volume_5','volume_365','pvar_5','pstd_365'])"
   ]
  },
  {
   "cell_type": "markdown",
   "metadata": {},
   "source": [
    "### Time to try a new preiction algorithm"
   ]
  }
 ],
 "metadata": {
  "kernelspec": {
   "display_name": "Python 3",
   "language": "python",
   "name": "python3"
  },
  "language_info": {
   "codemirror_mode": {
    "name": "ipython",
    "version": 3
   },
   "file_extension": ".py",
   "mimetype": "text/x-python",
   "name": "python",
   "nbconvert_exporter": "python",
   "pygments_lexer": "ipython3",
   "version": "3.6.3"
  }
 },
 "nbformat": 4,
 "nbformat_minor": 2
}
