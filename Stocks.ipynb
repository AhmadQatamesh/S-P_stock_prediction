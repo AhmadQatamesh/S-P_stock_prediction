{
 "cells": [
  {
   "cell_type": "markdown",
   "metadata": {},
   "source": [
    "# Stock Market Prediction Project\n",
    "This a an MVP project. Just to proof the prediction might work. There are many ways to improve this script. Many traders out there are using algortihmic trading, I don't care to do that for perosnal gain. I will update this project from time to time.\n",
    "The goal is predict stock market prices for the current period based on historical data, I can use more data or more sophisticated algortihms to imporve my. Mean Absolute error will be the coost fucntion\n",
    "This Data is pulled from <a href='https://finance.yahoo.com/'> Yahoo finance </a>, my to go place for finance data since MBA days. Sadly, they stopped support to thier API, otherwise I would have added that to the script.\n",
    "To do actual trading with this based on this algortihm is unreal, since you need also to add stop loss fucntions and similar options."
   ]
  },
  {
   "cell_type": "code",
   "execution_count": 1,
   "metadata": {},
   "outputs": [
    {
     "data": {
      "text/html": [
       "<div>\n",
       "<style>\n",
       "    .dataframe thead tr:only-child th {\n",
       "        text-align: right;\n",
       "    }\n",
       "\n",
       "    .dataframe thead th {\n",
       "        text-align: left;\n",
       "    }\n",
       "\n",
       "    .dataframe tbody tr th {\n",
       "        vertical-align: top;\n",
       "    }\n",
       "</style>\n",
       "<table border=\"1\" class=\"dataframe\">\n",
       "  <thead>\n",
       "    <tr style=\"text-align: right;\">\n",
       "      <th></th>\n",
       "      <th>Date</th>\n",
       "      <th>Open</th>\n",
       "      <th>High</th>\n",
       "      <th>Low</th>\n",
       "      <th>Close</th>\n",
       "      <th>Adj Close</th>\n",
       "      <th>Volume</th>\n",
       "      <th>date</th>\n",
       "    </tr>\n",
       "  </thead>\n",
       "  <tbody>\n",
       "    <tr>\n",
       "      <th>0</th>\n",
       "      <td>1/3/1950</td>\n",
       "      <td>16.66</td>\n",
       "      <td>16.66</td>\n",
       "      <td>16.66</td>\n",
       "      <td>16.66</td>\n",
       "      <td>16.66</td>\n",
       "      <td>1260000</td>\n",
       "      <td>1950-01-03</td>\n",
       "    </tr>\n",
       "    <tr>\n",
       "      <th>1</th>\n",
       "      <td>1/4/1950</td>\n",
       "      <td>16.85</td>\n",
       "      <td>16.85</td>\n",
       "      <td>16.85</td>\n",
       "      <td>16.85</td>\n",
       "      <td>16.85</td>\n",
       "      <td>1890000</td>\n",
       "      <td>1950-01-04</td>\n",
       "    </tr>\n",
       "    <tr>\n",
       "      <th>2</th>\n",
       "      <td>1/5/1950</td>\n",
       "      <td>16.93</td>\n",
       "      <td>16.93</td>\n",
       "      <td>16.93</td>\n",
       "      <td>16.93</td>\n",
       "      <td>16.93</td>\n",
       "      <td>2550000</td>\n",
       "      <td>1950-01-05</td>\n",
       "    </tr>\n",
       "    <tr>\n",
       "      <th>3</th>\n",
       "      <td>1/6/1950</td>\n",
       "      <td>16.98</td>\n",
       "      <td>16.98</td>\n",
       "      <td>16.98</td>\n",
       "      <td>16.98</td>\n",
       "      <td>16.98</td>\n",
       "      <td>2010000</td>\n",
       "      <td>1950-01-06</td>\n",
       "    </tr>\n",
       "    <tr>\n",
       "      <th>4</th>\n",
       "      <td>1/9/1950</td>\n",
       "      <td>17.08</td>\n",
       "      <td>17.08</td>\n",
       "      <td>17.08</td>\n",
       "      <td>17.08</td>\n",
       "      <td>17.08</td>\n",
       "      <td>2520000</td>\n",
       "      <td>1950-01-09</td>\n",
       "    </tr>\n",
       "  </tbody>\n",
       "</table>\n",
       "</div>"
      ],
      "text/plain": [
       "       Date   Open   High    Low  Close  Adj Close   Volume       date\n",
       "0  1/3/1950  16.66  16.66  16.66  16.66      16.66  1260000 1950-01-03\n",
       "1  1/4/1950  16.85  16.85  16.85  16.85      16.85  1890000 1950-01-04\n",
       "2  1/5/1950  16.93  16.93  16.93  16.93      16.93  2550000 1950-01-05\n",
       "3  1/6/1950  16.98  16.98  16.98  16.98      16.98  2010000 1950-01-06\n",
       "4  1/9/1950  17.08  17.08  17.08  17.08      17.08  2520000 1950-01-09"
      ]
     },
     "execution_count": 1,
     "metadata": {},
     "output_type": "execute_result"
    }
   ],
   "source": [
    "import pandas as pd\n",
    "import numpy as np\n",
    "import matplotlib.pyplot as plt\n",
    "from datetime import datetime, date\n",
    "from sklearn.linear_model import LinearRegression\n",
    "from sklearn.metrics import mean_absolute_error\n",
    "\n",
    "data = pd.read_csv('GSPC.csv')\n",
    "data['date'] = pd.to_datetime(data['Date'])\n",
    "data.head()"
   ]
  },
  {
   "cell_type": "code",
   "execution_count": 2,
   "metadata": {
    "collapsed": true
   },
   "outputs": [],
   "source": [
    "# sorted values for use of DF.rolling later\n",
    "data.sort_values('date', inplace=True, ascending=True)\n",
    "\n",
    "# Shift added because rolling includes the current period, and we don't want the current day to impact our analysis, since it should be unknow, nad we trying to predict it\n",
    "data['day_5'] = data['Adj Close'].rolling(window=5).mean().shift(1)\n",
    "\n",
    "data['day_365'] = data['Adj Close'].rolling(window=365).mean().shift(1)\n",
    "\n",
    "data = data[data['date']>(datetime(year=1951, month=1, day=2))]\n",
    "\n",
    "data.dropna(axis=0, inplace=True)\n"
   ]
  },
  {
   "cell_type": "code",
   "execution_count": 3,
   "metadata": {
    "collapsed": true
   },
   "outputs": [],
   "source": [
    "train = data[data['date']<datetime(year=2013, month=1, day=1)]\n",
    "test = data[data['date']>=datetime(year=2013, month=1, day=1)]"
   ]
  },
  {
   "cell_type": "code",
   "execution_count": 4,
   "metadata": {
    "collapsed": true
   },
   "outputs": [],
   "source": [
    "lr = LinearRegression()\n",
    "lr.fit(train[['day_5','day_365']], train['Close'])\n",
    "\n",
    "prediction = lr.predict(test[['day_5','day_365']])"
   ]
  },
  {
   "cell_type": "code",
   "execution_count": 5,
   "metadata": {},
   "outputs": [
    {
     "name": "stdout",
     "output_type": "stream",
     "text": [
      "Mean Absolute Error = 18.132733837506013\n"
     ]
    }
   ],
   "source": [
    "mae = mean_absolute_error(test['Close'],prediction).mean()\n",
    "\n",
    "print('Mean Absolute Error = {}'.format(mae))"
   ]
  },
  {
   "cell_type": "code",
   "execution_count": 6,
   "metadata": {},
   "outputs": [
    {
     "name": "stdout",
     "output_type": "stream",
     "text": [
      "date =2019-01-30 , current price=2658, predicted price=2644.056445609929\n"
     ]
    }
   ],
   "source": [
    "print('date ={1} , current price=2658, predicted price={0}'.format(prediction[-1], date.today()))"
   ]
  }
 ],
 "metadata": {
  "kernelspec": {
   "display_name": "Python 3",
   "language": "python",
   "name": "python3"
  },
  "language_info": {
   "codemirror_mode": {
    "name": "ipython",
    "version": 3
   },
   "file_extension": ".py",
   "mimetype": "text/x-python",
   "name": "python",
   "nbconvert_exporter": "python",
   "pygments_lexer": "ipython3",
   "version": "3.6.3"
  }
 },
 "nbformat": 4,
 "nbformat_minor": 2
}
